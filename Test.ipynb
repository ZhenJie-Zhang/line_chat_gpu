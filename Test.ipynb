{
 "cells": [
  {
   "cell_type": "code",
   "execution_count": null,
   "metadata": {},
   "outputs": [],
   "source": [
    "!ls ../darknet/shoe_person/cfg/"
   ]
  },
  {
   "cell_type": "code",
   "execution_count": null,
   "metadata": {},
   "outputs": [],
   "source": [
    "!pwd"
   ]
  },
  {
   "cell_type": "code",
   "execution_count": null,
   "metadata": {},
   "outputs": [],
   "source": [
    "ls ../darknet/shoe_person/cfg/"
   ]
  },
  {
   "cell_type": "code",
   "execution_count": null,
   "metadata": {},
   "outputs": [],
   "source": [
    "import os\n",
    "os.system(\"\"\"\n",
    "        ./darknet detector test \\\n",
    "        shoe_person/cfg/obj.data \\\n",
    "        shoe_person/cfg/yolov3.cfg \\\n",
    "        shoe_person/cfg/weights/yolov3_last.weights \\\n",
    "        data/test3.jpg \\\n",
    "        -dont_show &\n",
    "        \"\"\")"
   ]
  },
  {
   "cell_type": "code",
   "execution_count": null,
   "metadata": {
    "scrolled": true
   },
   "outputs": [],
   "source": [
    "!../darknet/darknet detector test \\\n",
    "../darknet/shoe_person/cfg/obj.data \\\n",
    "../darknet/shoe_person/cfg/yolov3.cfg \\\n",
    "../darknet/shoe_person/cfg/weight/yolov3_last.weights \\\n",
    "../darknet/data/white-sneaker-picks-main.jpg -dont_show\n"
   ]
  },
  {
   "cell_type": "code",
   "execution_count": null,
   "metadata": {},
   "outputs": [],
   "source": [
    "import os\n",
    "\n",
    "def test_pic():\n",
    "    os.chdir(\"/root/darknet\")\n",
    "    cmd =\"\"\"\n",
    "        ./darknet detector test \\\n",
    "        shoe_person/cfg/obj.data \\\n",
    "        shoe_person/cfg/yolov3.cfg \\\n",
    "        shoe_person/cfg/weights/yolov3_last.weights -thresh 0.5\\\n",
    "        data/test.jpg \\\n",
    "        -dont_show &\n",
    "        \"\"\"\n",
    "#     os.popen(cmd)\n",
    "    cmd_res = os.popen(cmd).read()\n",
    "    print(cmd_res)\n",
    "test_pic()"
   ]
  },
  {
   "cell_type": "code",
   "execution_count": null,
   "metadata": {},
   "outputs": [],
   "source": [
    "pwd"
   ]
  },
  {
   "cell_type": "code",
   "execution_count": null,
   "metadata": {},
   "outputs": [],
   "source": [
    "darknet.dark.test()"
   ]
  },
  {
   "cell_type": "code",
   "execution_count": null,
   "metadata": {},
   "outputs": [],
   "source": [
    "import os\n",
    "\n",
    "cmd_res = os.popen(\"ls -l\").read()\n",
    "print(cmd_res)"
   ]
  },
  {
   "cell_type": "code",
   "execution_count": null,
   "metadata": {
    "scrolled": true
   },
   "outputs": [],
   "source": [
    "test_pic()"
   ]
  },
  {
   "cell_type": "code",
   "execution_count": null,
   "metadata": {},
   "outputs": [],
   "source": [
    "import os\n",
    "import shutil\n",
    "\n",
    "origin_pwd = '/root/darknet/result_img/'\n",
    "des_pwd = '/root/linechatbot/素材/'\n",
    "\n",
    "img_list = os.listdir(origin_pwd)\n",
    "\n",
    "for i in img_list:\n",
    "    if 'shoe' in i:\n",
    "        print(i)\n",
    "        shutil.copyfile(origin_pwd+i, des_pwd+i)"
   ]
  },
  {
   "cell_type": "code",
   "execution_count": null,
   "metadata": {},
   "outputs": [],
   "source": [
    "from darknet_test import test_pic\n",
    "\n",
    "test_pic()"
   ]
  },
  {
   "cell_type": "code",
   "execution_count": null,
   "metadata": {
    "scrolled": false
   },
   "outputs": [],
   "source": [
    "from kafka import KafkaConsumer\n",
    "import sys, json, pymysql, pymongo\n",
    "from elasticsearch import Elasticsearch"
   ]
  },
  {
   "cell_type": "code",
   "execution_count": null,
   "metadata": {},
   "outputs": [],
   "source": [
    "from kafka import KafkaProducer"
   ]
  },
  {
   "cell_type": "code",
   "execution_count": null,
   "metadata": {},
   "outputs": [],
   "source": [
    "from kafka import KafkaProducer\n",
    "import sys, random, datetime, time, json\n",
    "\n",
    "while True:\n",
    "    if __name__ == \"__main__\":\n",
    "        # 設定要連線到Kafka集群的相關設定, 並產生一個Kafka的Producer的實例\n",
    "        producer1 = KafkaProducer(\n",
    "            # 指定Kafka集群伺服器\n",
    "            bootstrap_servers = [\"kafka:9092\"],\n",
    "            # 指定msgKey的序列化器, 若Key為None, 無法序列化, 透過producer直接給值\n",
    "            #key_serializer = str.encode,\n",
    "            # 指定msgValue的序列化器\n",
    "            #value_serializer = str.encode,\n",
    "            value_serializer = lambda m: json.dumps(m).encode('ascii'),\n",
    "        )\n",
    "\n",
    "        producer2 = KafkaProducer(\n",
    "            # 指定Kafka集群伺服器\n",
    "            bootstrap_servers = [\"kafka:9092\"],\n",
    "            # 指定msgKey的序列化器, 若Key為None, 無法序列化, 透過producer直接給值\n",
    "            #key_serializer = str.encode,\n",
    "            # 指定msgValue的序列化器\n",
    "            #value_serializer = str.encode,\n",
    "            value_serializer = lambda m: json.dumps(m).encode('ascii'),\n",
    "        )\n",
    "\n",
    "\n",
    "        try:\n",
    "            device_id = \"001\"\n",
    "            t = datetime.datetime.now().strftime(\"%Y-%m-%d %H:%M:%S\")\n",
    "            temp = round(random.uniform(18, 30), 2)\n",
    "            humidity = random.randint(0, 100)\n",
    "            rd = random.random()\n",
    "            tt = {\"device_id\": device_id, \"timestamp\": t, \"Temperature\": temp, 'rd': rd}\n",
    "            hh = {\"device_id\": device_id, \"timestamp\": t, \"Humidity\": humidity, 'rd': rd}\n",
    "\n",
    "            print(\"Start sending messages ...\")\n",
    "            # 產生要發佈到Kafka的訊息\n",
    "    #         producer1.send(topic=\"temperature\", value=tt)\n",
    "    #         producer2.send(topic=\"humidity\", value=hh)\n",
    "            # producer.send(topic=topicName, key=msgKey, value=msgValue)\n",
    "            future1 = producer1.send(topic=\"temperature\", value=tt)\n",
    "            record_metadata1 = future1.get(timeout=10)\n",
    "            print(record_metadata1)\n",
    "\n",
    "            future2 = producer2.send(topic=\"humidity_test2\", value=hh)\n",
    "            record_metadata2 = future2.get(timeout=10)\n",
    "            print(record_metadata2)\n",
    "            print(\"Message sending completed!\")\n",
    "\n",
    "        except Exception as e:\n",
    "            # 錯誤處理\n",
    "            e_type, e_value, e_traceback = sys.exc_info()\n",
    "            print(\"type ==> %s\" % (e_type))\n",
    "            print(\"value ==> %s\" % (e_value))\n",
    "            print(\"traceback ==> file name: %s\" % (e_traceback.tb_frame.f_code.co_filename))\n",
    "            print(\"traceback ==> line no: %s\" % (e_traceback.tb_lineno))\n",
    "            print(\"traceback ==> function name: %s\" % (e_traceback.tb_frame.f_code.co_name))\n",
    "\n",
    "\n",
    "        finally:\n",
    "            # 關掉Producer實例的連線\n",
    "            producer1.close()\n",
    "            producer2.close()\n",
    "            time.sleep(2)"
   ]
  }
 ],
 "metadata": {
  "kernelspec": {
   "display_name": "Python 3",
   "language": "python",
   "name": "python3"
  },
  "language_info": {
   "codemirror_mode": {
    "name": "ipython",
    "version": 3
   },
   "file_extension": ".py",
   "mimetype": "text/x-python",
   "name": "python",
   "nbconvert_exporter": "python",
   "pygments_lexer": "ipython3",
   "version": "3.7.4"
  }
 },
 "nbformat": 4,
 "nbformat_minor": 2
}
