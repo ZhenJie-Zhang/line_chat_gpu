{
 "cells": [
  {
   "cell_type": "code",
   "execution_count": 1,
   "metadata": {},
   "outputs": [
    {
     "name": "stdout",
     "output_type": "stream",
     "text": [
      "Database version : 10.1.41-MariaDB-1~bionic \n"
     ]
    }
   ],
   "source": [
    "import pymysql\n",
    "# 開啟資料庫連線\n",
    "db = pymysql.connect(\"chatbot_db\",\"root\",\"123456\",\"\" )\n",
    "# 使用 cursor() 方法建立一個遊標物件 cursor\n",
    "cursor = db.cursor()\n",
    "# 使用 execute()  方法執行 SQL 查詢 \n",
    "cursor.execute(\"SELECT VERSION()\")\n",
    "# 使用 fetchone() 方法獲取單條資料.\n",
    "data = cursor.fetchone()\n",
    "print (\"Database version : %s \" % data)\n",
    "# 關閉資料庫連線\n",
    "db.close()\n"
   ]
  }
 ],
 "metadata": {
  "kernelspec": {
   "display_name": "Python 3",
   "language": "python",
   "name": "python3"
  },
  "language_info": {
   "codemirror_mode": {
    "name": "ipython",
    "version": 3
   },
   "file_extension": ".py",
   "mimetype": "text/x-python",
   "name": "python",
   "nbconvert_exporter": "python",
   "pygments_lexer": "ipython3",
   "version": "3.7.4"
  }
 },
 "nbformat": 4,
 "nbformat_minor": 2
}
